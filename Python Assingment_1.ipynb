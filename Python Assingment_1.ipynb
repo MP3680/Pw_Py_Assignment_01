{
 "cells": [
  {
   "cell_type": "markdown",
   "id": "21aa7cfe-55cd-4910-a239-b4c29eca0def",
   "metadata": {},
   "source": [
    "TOPIC: Python Basics Variable"
   ]
  },
  {
   "cell_type": "markdown",
   "id": "b215f1a5-5a44-4f1b-8854-1f13131785cf",
   "metadata": {},
   "source": [
    "1. Declare two variables, `x` and `y`, and assign them integer values. Swap the\n",
    "   values of these variables without using any temporary variable.\n",
    "   "
   ]
  },
  {
   "cell_type": "code",
   "execution_count": 13,
   "id": "a6fffe80-bdd1-4769-a43b-4a8aa3d54d41",
   "metadata": {},
   "outputs": [
    {
     "name": "stdout",
     "output_type": "stream",
     "text": [
      "x =  4\n",
      "y =  5\n"
     ]
    }
   ],
   "source": [
    "x = 5\n",
    "y = 4\n",
    "x,y=y,x\n",
    "\n",
    "print(\"x = \",x)\n",
    "print(\"y = \",y)\n"
   ]
  },
  {
   "cell_type": "markdown",
   "id": "e2d3bc8a-b0f9-408d-89f1-db273b3f7689",
   "metadata": {},
   "source": [
    "2. Create a program that calculates the area of a rectangle. Take the length and\n",
    "   width as inputs from the user and store them in variables. Calculate and\n",
    "   display the area."
   ]
  },
  {
   "cell_type": "code",
   "execution_count": 3,
   "id": "ef049264-af4b-4008-a072-3b2f1b638570",
   "metadata": {},
   "outputs": [
    {
     "name": "stdin",
     "output_type": "stream",
     "text": [
      "Enter The Length  8.9\n",
      "Enter The Width 89\n"
     ]
    },
    {
     "data": {
      "text/plain": [
       "792.1"
      ]
     },
     "execution_count": 3,
     "metadata": {},
     "output_type": "execute_result"
    }
   ],
   "source": [
    "length = float(input(\"Enter The Length \"))\n",
    "width  = float(input(\"Enter The Width\"))\n",
    "\n",
    "#calculates the area of a rectangle\n",
    "area = length*width\n",
    "area"
   ]
  },
  {
   "cell_type": "markdown",
   "id": "d8f4e7b3-eb3a-4fb3-9f38-d4090b71cf71",
   "metadata": {},
   "source": [
    "3. Write a Python program that converts temperatures from Celsius to\n",
    "    Fahrenheit. Take the temperature in Celsius as input, store it in a variable,\n",
    "    convert it to Fahrenheit, and display the result."
   ]
  },
  {
   "cell_type": "code",
   "execution_count": 7,
   "id": "37d55fad-83d8-492f-9521-3b36fae580e9",
   "metadata": {},
   "outputs": [
    {
     "name": "stdin",
     "output_type": "stream",
     "text": [
      "Enter the Celsius 65\n"
     ]
    },
    {
     "name": "stdout",
     "output_type": "stream",
     "text": [
      "Fahrenheit  149.0\n"
     ]
    }
   ],
   "source": [
    "Celsius = float(input(\"Enter the Celsius\"))\n",
    "Fahrenheit = (Celsius * 9/5) + 32\n",
    "\n",
    "print(\"Fahrenheit \",Fahrenheit)\n",
    "\n"
   ]
  },
  {
   "cell_type": "raw",
   "id": "ea7cb19f-40c0-49d6-a4db-ac0131b8dbce",
   "metadata": {},
   "source": []
  },
  {
   "cell_type": "markdown",
   "id": "b37b4c77-8290-43f2-a42e-4c6a197f562d",
   "metadata": {},
   "source": [
    "TOPIC: String Based Questions"
   ]
  },
  {
   "cell_type": "markdown",
   "id": "9454f068-0c61-4298-b40f-af3d11ab3085",
   "metadata": {},
   "source": [
    "1. Write a Python program that takes a string as input and prints the length of\n",
    "the string."
   ]
  },
  {
   "cell_type": "code",
   "execution_count": 2,
   "id": "c8a1bbe9-e017-4321-ae87-ad6ff5f19333",
   "metadata": {},
   "outputs": [
    {
     "data": {
      "text/plain": [
       "8"
      ]
     },
     "execution_count": 2,
     "metadata": {},
     "output_type": "execute_result"
    }
   ],
   "source": [
    "a = (5,6,9,8,4,5,7,8)\n",
    "a\n",
    "\n",
    "#prints the length of the string\n",
    "len(a)"
   ]
  },
  {
   "cell_type": "markdown",
   "id": "333161b3-7de4-4562-9c22-7f5d58cf6202",
   "metadata": {},
   "source": [
    "2. Create a program that takes a sentence from the user and counts the number\n",
    "of vowels (a, e, i, o, u) in the string."
   ]
  },
  {
   "cell_type": "code",
   "execution_count": 7,
   "id": "b36b5e1d-03b5-48e0-81a0-d43800c3bc21",
   "metadata": {},
   "outputs": [
    {
     "name": "stdin",
     "output_type": "stream",
     "text": [
      " Enter the sentence   aeiouaeiouaeiop\n"
     ]
    },
    {
     "name": "stdout",
     "output_type": "stream",
     "text": [
      "a =  3\n",
      "e =  3\n",
      "i =  3\n",
      "o =  3\n",
      "u =  2\n"
     ]
    }
   ],
   "source": [
    "sentence = input(\" Enter the sentence  \")\n",
    "a = sentence.count(\"a\")\n",
    "print(\"a = \",a)\n",
    "\n",
    "e = sentence.count(\"e\")\n",
    "print(\"e = \",e)\n",
    "\n",
    "i = sentence.count(\"i\")\n",
    "print(\"i = \",i)\n",
    "\n",
    "o = sentence.count(\"o\")\n",
    "print(\"o = \",o)\n",
    "\n",
    "u = sentence.count(\"u\")\n",
    "print(\"u = \",u)"
   ]
  },
  {
   "cell_type": "markdown",
   "id": "d988c865-e2ad-452e-bbe5-bfddd94717f8",
   "metadata": {},
   "source": [
    "3. Given a string, reverse the order of characters using string slicing and print\n",
    "the reversed string."
   ]
  },
  {
   "cell_type": "code",
   "execution_count": 10,
   "id": "5c3fa3c0-a899-4db2-afd5-38feba7641f0",
   "metadata": {},
   "outputs": [
    {
     "data": {
      "text/plain": [
       "(5, 9, 8, 7, 9, 8, 6, 4)"
      ]
     },
     "execution_count": 10,
     "metadata": {},
     "output_type": "execute_result"
    }
   ],
   "source": [
    "x = (4,6,8,9,7,8,9,5)\n",
    "Reverse_string = x[::-1]\n",
    "Reverse_string\n"
   ]
  },
  {
   "cell_type": "markdown",
   "id": "423a9560-d65a-475e-8657-ad6b0c0d05f6",
   "metadata": {},
   "source": [
    "4. Write a program that takes a string as input and checks if it is a palindrome\n",
    "(reads the same forwards and backwards)."
   ]
  },
  {
   "cell_type": "code",
   "execution_count": 4,
   "id": "ae5af5b5-490b-461d-a3cc-d2c49abcc2c9",
   "metadata": {},
   "outputs": [
    {
     "name": "stdin",
     "output_type": "stream",
     "text": [
      "Enter the String mayur\n"
     ]
    },
    {
     "name": "stdout",
     "output_type": "stream",
     "text": [
      "The String is not a Palindrome\n"
     ]
    }
   ],
   "source": [
    "normal_string = input(\"Enter the String\")\n",
    "\n",
    "reverse_string = normal_string[::-1]\n",
    "\n",
    "if normal_string==reverse_string:\n",
    "    print(\"The String is a Palindrome\")\n",
    "else :\n",
    "    print(\"The String is not a Palindrome\")"
   ]
  },
  {
   "cell_type": "markdown",
   "id": "8d371fd9-4ee3-4bb6-9f72-9a8a4e0bcb97",
   "metadata": {},
   "source": [
    "5. Create a program that takes a string as input and removes all the spaces from\n",
    "it. Print the modified string without spaces."
   ]
  },
  {
   "cell_type": "code",
   "execution_count": 10,
   "id": "a822c249-bb11-43c5-a74b-1e285e0a134d",
   "metadata": {},
   "outputs": [
    {
     "name": "stdin",
     "output_type": "stream",
     "text": [
      "Enter the String :  mayur patil\n"
     ]
    },
    {
     "data": {
      "text/plain": [
       "'mayurpatil'"
      ]
     },
     "execution_count": 10,
     "metadata": {},
     "output_type": "execute_result"
    }
   ],
   "source": [
    "new_string= input(\"Enter the String : \")\n",
    "string_without_spaces= new_string.replace(\" \",\"\")\n",
    "string_without_spaces\n"
   ]
  },
  {
   "cell_type": "code",
   "execution_count": null,
   "id": "ce6ce8a3-9357-4dee-9da4-2cececc968d5",
   "metadata": {},
   "outputs": [],
   "source": []
  }
 ],
 "metadata": {
  "kernelspec": {
   "display_name": "Python 3 (ipykernel)",
   "language": "python",
   "name": "python3"
  },
  "language_info": {
   "codemirror_mode": {
    "name": "ipython",
    "version": 3
   },
   "file_extension": ".py",
   "mimetype": "text/x-python",
   "name": "python",
   "nbconvert_exporter": "python",
   "pygments_lexer": "ipython3",
   "version": "3.10.8"
  }
 },
 "nbformat": 4,
 "nbformat_minor": 5
}
